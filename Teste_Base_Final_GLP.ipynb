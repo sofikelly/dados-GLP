{
  "nbformat": 4,
  "nbformat_minor": 0,
  "metadata": {
    "colab": {
      "provenance": [],
      "authorship_tag": "ABX9TyOXJPQFRxeE+CQHU1Eb2HK2",
      "include_colab_link": true
    },
    "kernelspec": {
      "name": "ir",
      "display_name": "R"
    },
    "language_info": {
      "name": "R"
    }
  },
  "cells": [
    {
      "cell_type": "markdown",
      "metadata": {
        "id": "view-in-github",
        "colab_type": "text"
      },
      "source": [
        "<a href=\"https://colab.research.google.com/github/sofikelly/dados-GLP/blob/main/Teste_Base_Final_GLP.ipynb\" target=\"_parent\"><img src=\"https://colab.research.google.com/assets/colab-badge.svg\" alt=\"Open In Colab\"/></a>"
      ]
    },
    {
      "cell_type": "code",
      "source": [],
      "metadata": {
        "id": "5S3Xa061oQ2H"
      },
      "execution_count": null,
      "outputs": []
    },
    {
      "cell_type": "code",
      "metadata": {
        "colab": {
          "base_uri": "https://localhost:8080/",
          "height": 607
        },
        "id": "ba2af5e0",
        "outputId": "e21c1156-6b89-4560-be8c-0313e70a4ac0"
      },
      "source": [
        "# Instalar pacotes necessários (se ainda não estiverem instalados)\n",
        "install.packages(\"readxl\")\n",
        "install.packages(\"httr\")\n",
        "\n",
        "# Carregar os pacotes\n",
        "library(readxl)\n",
        "library(httr)\n",
        "\n",
        "# Link direto para o arquivo raw no GitHub (Verificado com o usuário)\n",
        "url <- \"https://github.com/sofikelly/dados-GLP/raw/refs/heads/main/Base%20Final%20GLP.xlsx\"\n",
        "\n",
        "# Criar um arquivo temporário para baixar o Excel\n",
        "temp_file <- tempfile(fileext = \".xlsx\")\n",
        "\n",
        "# Baixar o arquivo\n",
        "GET(url, write_disk(temp_file, overwrite = TRUE))\n",
        "\n",
        "# Opcional: Mostrar as abas disponíveis no arquivo para verificar\n",
        "cat(\"Abas encontradas no arquivo:\\n\")\n",
        "print(excel_sheets(temp_file))\n",
        "\n",
        "# Ler apenas a aba \"PREÇOS\" para um dataframe\n",
        "precos <- read_excel(temp_file, sheet = \"PREÇOS\")\n",
        "\n",
        "# Mostrar as primeiras linhas do dataframe para verificar se a importação funcionou\n",
        "cat(\"\\nPrimeiras linhas da aba PREÇOS:\\n\")\n",
        "print(head(precos))\n",
        "\n",
        "# Remover o arquivo temporário após a leitura (opcional)\n",
        "unlink(temp_file)"
      ],
      "execution_count": 7,
      "outputs": [
        {
          "output_type": "stream",
          "name": "stderr",
          "text": [
            "Installing package into ‘/usr/local/lib/R/site-library’\n",
            "(as ‘lib’ is unspecified)\n",
            "\n",
            "Installing package into ‘/usr/local/lib/R/site-library’\n",
            "(as ‘lib’ is unspecified)\n",
            "\n"
          ]
        },
        {
          "output_type": "display_data",
          "data": {
            "text/plain": [
              "Response [https://raw.githubusercontent.com/sofikelly/dados-GLP/refs/heads/main/Base%20Final%20GLP.xlsx]\n",
              "  Date: 2025-10-06 19:56\n",
              "  Status: 200\n",
              "  Content-Type: application/octet-stream\n",
              "  Size: 521 kB\n",
              "<ON DISK>  /tmp/RtmpQjhsvX/file2ef06efd01a9.xlsxNULL"
            ]
          },
          "metadata": {}
        },
        {
          "output_type": "stream",
          "name": "stdout",
          "text": [
            "Abas encontradas no arquivo:\n",
            "[1] \"PREÇOS\"                \"VARIAÇÃO PREÇOS\"       \"MARGENS\"              \n",
            "[4] \"PARTICIPAÇÃO LIQUIGÁS\" \"CR4\"                   \"HHI\"                  \n",
            "\n",
            "Primeiras linhas da aba PREÇOS:\n",
            "\u001b[90m# A tibble: 6 × 102\u001b[39m\n",
            "  PREÇOS `42736` `42767` `42795` `42826` `42856` `42887` `42917` `42948` `42979`\n",
            "  \u001b[3m\u001b[90m<chr>\u001b[39m\u001b[23m    \u001b[3m\u001b[90m<dbl>\u001b[39m\u001b[23m   \u001b[3m\u001b[90m<dbl>\u001b[39m\u001b[23m   \u001b[3m\u001b[90m<dbl>\u001b[39m\u001b[23m   \u001b[3m\u001b[90m<dbl>\u001b[39m\u001b[23m   \u001b[3m\u001b[90m<dbl>\u001b[39m\u001b[23m   \u001b[3m\u001b[90m<dbl>\u001b[39m\u001b[23m   \u001b[3m\u001b[90m<dbl>\u001b[39m\u001b[23m   \u001b[3m\u001b[90m<dbl>\u001b[39m\u001b[23m   \u001b[3m\u001b[90m<dbl>\u001b[39m\u001b[23m\n",
            "\u001b[90m1\u001b[39m AC Pr…    13.0    13.0    13.6    14.3    14.2    15.1    14.6    15.5    17.6\n",
            "\u001b[90m2\u001b[39m AC Pr…    52.4    52.3    52.3    54.3    55.0    55.2    55.1    54.9    57.4\n",
            "\u001b[90m3\u001b[39m AC Pr…    60.6    60.5    61.0    64.2    64.6    64.8    65.0    65.3    68.1\n",
            "\u001b[90m4\u001b[39m AL Pr…    13.2    13.2    13.6    14.1    14.1    14.9    14.5    15.4    17.3\n",
            "\u001b[90m5\u001b[39m AL Pr…    37.0    37.0    37.1    38.6    39.8    39.7    39.3    38.2    38.2\n",
            "\u001b[90m6\u001b[39m AL Pr…    52.9    52.9    52.7    56.0    53.4    52.5    51.0    50.7    55.9\n",
            "\u001b[90m# ℹ 92 more variables: `43009` <dbl>, `43040` <dbl>, `43070` <dbl>,\u001b[39m\n",
            "\u001b[90m#   `43101` <dbl>, `43132` <dbl>, `43160` <dbl>, `43191` <dbl>, `43221` <dbl>,\u001b[39m\n",
            "\u001b[90m#   `43252` <dbl>, `43282` <dbl>, `43313` <dbl>, `43344` <dbl>, `43374` <dbl>,\u001b[39m\n",
            "\u001b[90m#   `43405` <dbl>, `43435` <dbl>, `43466` <dbl>, `43497` <dbl>, `43525` <dbl>,\u001b[39m\n",
            "\u001b[90m#   `43556` <dbl>, `43586` <dbl>, `43617` <dbl>, `43647` <dbl>, `43678` <dbl>,\u001b[39m\n",
            "\u001b[90m#   `43709` <dbl>, `43739` <dbl>, `43770` <dbl>, `43800` <dbl>, `43831` <dbl>,\u001b[39m\n",
            "\u001b[90m#   `43862` <dbl>, `43891` <dbl>, `43922` <dbl>, `43952` <chr>, …\u001b[39m\n"
          ]
        }
      ]
    },
    {
      "cell_type": "code",
      "metadata": {
        "colab": {
          "base_uri": "https://localhost:8080/",
          "height": 1000
        },
        "id": "7c5b8cb0",
        "outputId": "d127cfc0-9914-4bb2-a5c6-868886cebb46"
      },
      "source": [
        "# Abas restantes a serem lidas (excluindo \"PREÇOS\" que já lemos)\n",
        "abas_restantes <- c(\"VARIAÇÃO PREÇOS\", \"MARGENS\", \"PARTICIPAÇÃO LIQUIGÁS\", \"CR4\", \"HHI\")\n",
        "\n",
        "# Baixar o arquivo novamente para ler as outras abas\n",
        "# (Podemos reutilizar o temp_file se ele não tiver sido excluído, mas baixar de novo garante)\n",
        "url <- \"https://github.com/sofikelly/dados-GLP/raw/refs/heads/main/Base%20Final%20GLP.xlsx\" # Use a URL correta\n",
        "temp_file <- tempfile(fileext = \".xlsx\")\n",
        "GET(url, write_disk(temp_file, overwrite = TRUE))\n",
        "\n",
        "# Ler cada aba e armazenar em dataframes separados\n",
        "# Usaremos uma lista para armazenar os dataframes, o que é prático\n",
        "dados_outras_abas <- list()\n",
        "\n",
        "for (aba in abas_restantes) {\n",
        "  cat(\"\\nLendo a aba:\", aba, \"\\n\")\n",
        "  tryCatch({\n",
        "    # Ler a aba atual\n",
        "    dados_outras_abas[[aba]] <- read_excel(temp_file, sheet = aba)\n",
        "\n",
        "    # Mostrar as primeiras linhas\n",
        "    cat(\"Primeiras linhas da aba\", aba, \":\\n\")\n",
        "    print(head(dados_outras_abas[[aba]]))\n",
        "\n",
        "  }, error = function(e) {\n",
        "    cat(\"Erro ao ler a aba\", aba, \":\", e$message, \"\\n\")\n",
        "  })\n",
        "}\n",
        "\n",
        "# Os dataframes agora estão acessíveis na lista 'dados_outras_abas'.\n",
        "# Por exemplo, para acessar a aba \"VARIAÇÃO PREÇOS\", use: dados_outras_abas[[\"VARIAÇÃO PREÇOS\"]]\n",
        "\n",
        "# Remover o arquivo temporário após a leitura (opcional, mas recomendado)\n",
        "unlink(temp_file)"
      ],
      "execution_count": 8,
      "outputs": [
        {
          "output_type": "display_data",
          "data": {
            "text/plain": [
              "Response [https://raw.githubusercontent.com/sofikelly/dados-GLP/refs/heads/main/Base%20Final%20GLP.xlsx]\n",
              "  Date: 2025-10-06 19:57\n",
              "  Status: 200\n",
              "  Content-Type: application/octet-stream\n",
              "  Size: 521 kB\n",
              "<ON DISK>  /tmp/RtmpQjhsvX/file2ef071860a23.xlsxNULL"
            ]
          },
          "metadata": {}
        },
        {
          "output_type": "stream",
          "name": "stdout",
          "text": [
            "\n",
            "Lendo a aba: VARIAÇÃO PREÇOS \n",
            "Primeiras linhas da aba VARIAÇÃO PREÇOS :\n",
            "\u001b[90m# A tibble: 6 × 102\u001b[39m\n",
            "  `VARIAÇÃO PREÇOS` `42736`  `42767`  `42795` `42826`  `42856`  `42887`  `42917`\n",
            "  \u001b[3m\u001b[90m<chr>\u001b[39m\u001b[23m               \u001b[3m\u001b[90m<dbl>\u001b[39m\u001b[23m    \u001b[3m\u001b[90m<dbl>\u001b[39m\u001b[23m    \u001b[3m\u001b[90m<dbl>\u001b[39m\u001b[23m   \u001b[3m\u001b[90m<dbl>\u001b[39m\u001b[23m    \u001b[3m\u001b[90m<dbl>\u001b[39m\u001b[23m    \u001b[3m\u001b[90m<dbl>\u001b[39m\u001b[23m    \u001b[3m\u001b[90m<dbl>\u001b[39m\u001b[23m\n",
            "\u001b[90m1\u001b[39m AC Variação Preç…       0  0   \u001b[90m \u001b[39m    4.69\u001b[90me\u001b[39m\u001b[31m-2\u001b[39m  0.048\u001b[4m5\u001b[24m -\u001b[31m0\u001b[39m\u001b[31m.\u001b[39m\u001b[31m00\u001b[39m\u001b[31m2\u001b[4m1\u001b[24m\u001b[4m0\u001b[24m\u001b[39m  0.059\u001b[4m6\u001b[24m  -\u001b[31m0\u001b[39m\u001b[31m.\u001b[39m\u001b[31m0\u001b[39m\u001b[31m32\u001b[4m5\u001b[24m\u001b[39m \n",
            "\u001b[90m2\u001b[39m AC Variação Preç…       0 -\u001b[31m9\u001b[39m\u001b[31m.\u001b[39m\u001b[31m55\u001b[39m\u001b[90me\u001b[39m\u001b[31m-4\u001b[39m  0   \u001b[90m \u001b[39m    0.038\u001b[4m2\u001b[24m  0.013\u001b[4m1\u001b[24m   0.003\u001b[4m0\u001b[24m\u001b[4m9\u001b[24m -\u001b[31m0\u001b[39m\u001b[31m.\u001b[39m\u001b[31m00\u001b[39m\u001b[31m2\u001b[4m5\u001b[24m\u001b[4m4\u001b[24m\u001b[39m\n",
            "\u001b[90m3\u001b[39m AC Variação Preç…       0 -\u001b[31m8\u001b[39m\u001b[31m.\u001b[39m\u001b[31m26\u001b[39m\u001b[90me\u001b[39m\u001b[31m-4\u001b[39m  7.77\u001b[90me\u001b[39m\u001b[31m-3\u001b[39m  0.052\u001b[4m2\u001b[24m  0.006\u001b[4m8\u001b[24m\u001b[4m6\u001b[24m  0.003\u001b[4m4\u001b[24m\u001b[4m1\u001b[24m  0.002\u001b[4m1\u001b[24m\u001b[4m6\u001b[24m\n",
            "\u001b[90m4\u001b[39m AL Variação Preç…       0  0   \u001b[90m \u001b[39m    3.10\u001b[90me\u001b[39m\u001b[31m-2\u001b[39m  0.035\u001b[4m2\u001b[24m  0.001\u001b[4m4\u001b[24m\u001b[4m2\u001b[24m  0.056\u001b[4m5\u001b[24m  -\u001b[31m0\u001b[39m\u001b[31m.\u001b[39m\u001b[31m0\u001b[39m\u001b[31m31\u001b[4m4\u001b[24m\u001b[39m \n",
            "\u001b[90m5\u001b[39m AL Variação Preç…       0  8.10\u001b[90me\u001b[39m\u001b[31m-4\u001b[39m  2.70\u001b[90me\u001b[39m\u001b[31m-4\u001b[39m  0.041\u001b[4m6\u001b[24m  0.031\u001b[4m6\u001b[24m  -\u001b[31m0\u001b[39m\u001b[31m.\u001b[39m\u001b[31m00\u001b[39m\u001b[31m2\u001b[4m5\u001b[24m\u001b[4m1\u001b[24m\u001b[39m -\u001b[31m0\u001b[39m\u001b[31m.\u001b[39m\u001b[31m0\u001b[39m\u001b[31m10\u001b[4m1\u001b[24m\u001b[39m \n",
            "\u001b[90m6\u001b[39m AL Variação Preç…       0 -\u001b[31m7\u001b[39m\u001b[31m.\u001b[39m\u001b[31m56\u001b[39m\u001b[90me\u001b[39m\u001b[31m-4\u001b[39m -\u001b[31m2\u001b[39m\u001b[31m.\u001b[39m\u001b[31m84\u001b[39m\u001b[90me\u001b[39m\u001b[31m-3\u001b[39m  0.061\u001b[4m4\u001b[24m -\u001b[31m0\u001b[39m\u001b[31m.\u001b[39m\u001b[31m0\u001b[39m\u001b[31m47\u001b[4m0\u001b[24m\u001b[39m  -\u001b[31m0\u001b[39m\u001b[31m.\u001b[39m\u001b[31m0\u001b[39m\u001b[31m15\u001b[4m9\u001b[24m\u001b[39m  -\u001b[31m0\u001b[39m\u001b[31m.\u001b[39m\u001b[31m0\u001b[39m\u001b[31m28\u001b[4m0\u001b[24m\u001b[39m \n",
            "\u001b[90m# ℹ 94 more variables: `42948` <dbl>, `42979` <dbl>, `43009` <dbl>,\u001b[39m\n",
            "\u001b[90m#   `43040` <dbl>, `43070` <dbl>, `43101` <dbl>, `43132` <dbl>, `43160` <dbl>,\u001b[39m\n",
            "\u001b[90m#   `43191` <dbl>, `43221` <dbl>, `43252` <dbl>, `43282` <dbl>, `43313` <dbl>,\u001b[39m\n",
            "\u001b[90m#   `43344` <dbl>, `43374` <dbl>, `43405` <dbl>, `43435` <dbl>, `43466` <dbl>,\u001b[39m\n",
            "\u001b[90m#   `43497` <dbl>, `43525` <dbl>, `43556` <dbl>, `43586` <dbl>, `43617` <dbl>,\u001b[39m\n",
            "\u001b[90m#   `43647` <dbl>, `43678` <dbl>, `43709` <dbl>, `43739` <dbl>, `43770` <dbl>,\u001b[39m\n",
            "\u001b[90m#   `43800` <dbl>, `43831` <dbl>, `43862` <dbl>, `43891` <dbl>, …\u001b[39m\n",
            "\n",
            "Lendo a aba: MARGENS \n",
            "Primeiras linhas da aba MARGENS :\n",
            "\u001b[90m# A tibble: 6 × 102\u001b[39m\n",
            "  MARGENS        `42736` `42767` `42795` `42826` `42856` `42887` `42917` `42948`\n",
            "  \u001b[3m\u001b[90m<chr>\u001b[39m\u001b[23m            \u001b[3m\u001b[90m<dbl>\u001b[39m\u001b[23m   \u001b[3m\u001b[90m<dbl>\u001b[39m\u001b[23m   \u001b[3m\u001b[90m<dbl>\u001b[39m\u001b[23m   \u001b[3m\u001b[90m<dbl>\u001b[39m\u001b[23m   \u001b[3m\u001b[90m<dbl>\u001b[39m\u001b[23m   \u001b[3m\u001b[90m<dbl>\u001b[39m\u001b[23m   \u001b[3m\u001b[90m<dbl>\u001b[39m\u001b[23m   \u001b[3m\u001b[90m<dbl>\u001b[39m\u001b[23m\n",
            "\u001b[90m1\u001b[39m AC Margem de …   26.7    26.6    26.0    27.5    27.6    26.9    27.1     25.9\n",
            "\u001b[90m2\u001b[39m AC Margem de …    8.17    8.17    8.64    9.82    9.55    9.6     9.88    10.4\n",
            "\u001b[90m3\u001b[39m AL Margem de …   15.1    15.1    14.5    15.4    16.6    15.3    15.6     13.1\n",
            "\u001b[90m4\u001b[39m AL Margem de …   15.9    15.8    15.7    17.4    13.5    12.8    11.7     12.5\n",
            "\u001b[90m5\u001b[39m AM Margem de …   20.6    20.6    19.6    19.9    20.6    19.2    20.5     18.3\n",
            "\u001b[90m6\u001b[39m AM Margem de …    8.01    8.34    9.15   11.1    10.2     9.88   12.2     10  \n",
            "\u001b[90m# ℹ 93 more variables: `42979` <dbl>, `43009` <dbl>, `43040` <dbl>,\u001b[39m\n",
            "\u001b[90m#   `43070` <dbl>, `43101` <dbl>, `43132` <dbl>, `43160` <dbl>, `43191` <dbl>,\u001b[39m\n",
            "\u001b[90m#   `43221` <dbl>, `43252` <dbl>, `43282` <dbl>, `43313` <dbl>, `43344` <dbl>,\u001b[39m\n",
            "\u001b[90m#   `43374` <dbl>, `43405` <dbl>, `43435` <dbl>, `43466` <dbl>, `43497` <dbl>,\u001b[39m\n",
            "\u001b[90m#   `43525` <dbl>, `43556` <dbl>, `43586` <dbl>, `43617` <dbl>, `43647` <dbl>,\u001b[39m\n",
            "\u001b[90m#   `43678` <dbl>, `43709` <dbl>, `43739` <dbl>, `43770` <dbl>, `43800` <dbl>,\u001b[39m\n",
            "\u001b[90m#   `43831` <dbl>, `43862` <dbl>, `43891` <dbl>, `43922` <dbl>, …\u001b[39m\n",
            "\n",
            "Lendo a aba: PARTICIPAÇÃO LIQUIGÁS \n",
            "Primeiras linhas da aba PARTICIPAÇÃO LIQUIGÁS :\n",
            "\u001b[90m# A tibble: 6 × 244\u001b[39m\n",
            "  PARTICIPAÇÃO LIQUIGÁ…¹ `39083` `39114` `39142` `39173` `39203` `39234` `39264`\n",
            "  \u001b[3m\u001b[90m<chr>\u001b[39m\u001b[23m                  \u001b[3m\u001b[90m<chr>\u001b[39m\u001b[23m   \u001b[3m\u001b[90m<chr>\u001b[39m\u001b[23m   \u001b[3m\u001b[90m<chr>\u001b[39m\u001b[23m   \u001b[3m\u001b[90m<chr>\u001b[39m\u001b[23m   \u001b[3m\u001b[90m<chr>\u001b[39m\u001b[23m   \u001b[3m\u001b[90m<chr>\u001b[39m\u001b[23m   \u001b[3m\u001b[90m<chr>\u001b[39m\u001b[23m  \n",
            "\u001b[90m1\u001b[39m AC                     -       -       -       -       -       -       -      \n",
            "\u001b[90m2\u001b[39m AL                     0.2405… 0.2447… 0.2478… 0.2647… 0.2032… 0.2553… 0.2617…\n",
            "\u001b[90m3\u001b[39m AM                     -       -       -       -       -       -       -      \n",
            "\u001b[90m4\u001b[39m AP                     0.2424… 0.1540… 0.2120… 0.2432… 0.2184… 0.2631… 0.2997…\n",
            "\u001b[90m5\u001b[39m BA                     0.1676… 0.1662… 0.1651… 0.1635… 0.1375… 0.1664… 0.1767…\n",
            "\u001b[90m6\u001b[39m CE                     0.2994… 0.2891… 0.2974… 0.3077… 0.2694… 0.2874… 0.2960…\n",
            "\u001b[90m# ℹ abbreviated name: ¹​`PARTICIPAÇÃO LIQUIGÁS`\u001b[39m\n",
            "\u001b[90m# ℹ 236 more variables: `39295` <chr>, `39326` <chr>, `39356` <chr>,\u001b[39m\n",
            "\u001b[90m#   `39387` <chr>, `39417` <chr>, `2007 Total` <chr>, `39448` <chr>,\u001b[39m\n",
            "\u001b[90m#   `39479` <chr>, `39508` <chr>, `39539` <chr>, `39569` <chr>, `39600` <chr>,\u001b[39m\n",
            "\u001b[90m#   `39630` <chr>, `39661` <chr>, `39692` <chr>, `39722` <chr>, `39753` <chr>,\u001b[39m\n",
            "\u001b[90m#   `39783` <chr>, `2008 Total` <chr>, `39814` <chr>, `39845` <chr>,\u001b[39m\n",
            "\u001b[90m#   `39873` <chr>, `39904` <chr>, `39934` <chr>, `39965` <chr>, …\u001b[39m\n",
            "\n",
            "Lendo a aba: CR4 \n",
            "Primeiras linhas da aba CR4 :\n",
            "\u001b[90m# A tibble: 6 × 244\u001b[39m\n",
            "  CR4   `39083` `39114` `39142` `39173` `39203` `39234` `39264` `39295` `39326`\n",
            "  \u001b[3m\u001b[90m<chr>\u001b[39m\u001b[23m   \u001b[3m\u001b[90m<dbl>\u001b[39m\u001b[23m   \u001b[3m\u001b[90m<dbl>\u001b[39m\u001b[23m   \u001b[3m\u001b[90m<dbl>\u001b[39m\u001b[23m   \u001b[3m\u001b[90m<dbl>\u001b[39m\u001b[23m   \u001b[3m\u001b[90m<dbl>\u001b[39m\u001b[23m   \u001b[3m\u001b[90m<dbl>\u001b[39m\u001b[23m   \u001b[3m\u001b[90m<dbl>\u001b[39m\u001b[23m   \u001b[3m\u001b[90m<dbl>\u001b[39m\u001b[23m   \u001b[3m\u001b[90m<dbl>\u001b[39m\u001b[23m\n",
            "\u001b[90m1\u001b[39m AC      1       1       1       1       1       1       1       1       1    \n",
            "\u001b[90m2\u001b[39m AL      0.869   0.879   0.867   0.873   0.859   0.884   0.871   0.868   0.878\n",
            "\u001b[90m3\u001b[39m AM      1       1       1       1       1       1       1       1       1.00 \n",
            "\u001b[90m4\u001b[39m AP      1       1       1       1       1       1       1       1       1    \n",
            "\u001b[90m5\u001b[39m BA      0.999   0.999   0.999   0.999   0.999   1.000   0.999   1.000   0.999\n",
            "\u001b[90m6\u001b[39m CE      0.986   0.985   0.985   0.984   0.984   0.982   0.985   0.986   1.000\n",
            "\u001b[90m# ℹ 234 more variables: `39356` <dbl>, `39387` <dbl>, `39417` <dbl>,\u001b[39m\n",
            "\u001b[90m#   `2007 Total` <dbl>, `39448` <dbl>, `39479` <dbl>, `39508` <dbl>,\u001b[39m\n",
            "\u001b[90m#   `39539` <dbl>, `39569` <dbl>, `39600` <dbl>, `39630` <dbl>, `39661` <dbl>,\u001b[39m\n",
            "\u001b[90m#   `39692` <dbl>, `39722` <dbl>, `39753` <dbl>, `39783` <dbl>,\u001b[39m\n",
            "\u001b[90m#   `2008 Total` <dbl>, `39814` <dbl>, `39845` <dbl>, `39873` <dbl>,\u001b[39m\n",
            "\u001b[90m#   `39904` <dbl>, `39934` <dbl>, `39965` <dbl>, `39995` <dbl>, `40026` <dbl>,\u001b[39m\n",
            "\u001b[90m#   `40057` <dbl>, `40087` <dbl>, `40118` <dbl>, `40148` <dbl>, …\u001b[39m\n",
            "\n",
            "Lendo a aba: HHI \n",
            "Primeiras linhas da aba HHI :\n",
            "\u001b[90m# A tibble: 6 × 244\u001b[39m\n",
            "  HHI   `39083` `39114` `39142` `39173` `39203` `39234` `39264` `39295` `39326`\n",
            "  \u001b[3m\u001b[90m<chr>\u001b[39m\u001b[23m   \u001b[3m\u001b[90m<dbl>\u001b[39m\u001b[23m   \u001b[3m\u001b[90m<dbl>\u001b[39m\u001b[23m   \u001b[3m\u001b[90m<dbl>\u001b[39m\u001b[23m   \u001b[3m\u001b[90m<dbl>\u001b[39m\u001b[23m   \u001b[3m\u001b[90m<dbl>\u001b[39m\u001b[23m   \u001b[3m\u001b[90m<dbl>\u001b[39m\u001b[23m   \u001b[3m\u001b[90m<dbl>\u001b[39m\u001b[23m   \u001b[3m\u001b[90m<dbl>\u001b[39m\u001b[23m   \u001b[3m\u001b[90m<dbl>\u001b[39m\u001b[23m\n",
            "\u001b[90m1\u001b[39m AC      \u001b[4m7\u001b[24m754.   \u001b[4m7\u001b[24m227.   \u001b[4m6\u001b[24m661.   \u001b[4m6\u001b[24m379.   \u001b[4m6\u001b[24m475.   \u001b[4m6\u001b[24m186.   \u001b[4m7\u001b[24m290.   \u001b[4m6\u001b[24m523.   \u001b[4m7\u001b[24m038.\n",
            "\u001b[90m2\u001b[39m AL      \u001b[4m2\u001b[24m190.   \u001b[4m2\u001b[24m201.   \u001b[4m2\u001b[24m162.   \u001b[4m2\u001b[24m210.   \u001b[4m2\u001b[24m153.   \u001b[4m2\u001b[24m217.   \u001b[4m2\u001b[24m178.   \u001b[4m2\u001b[24m158.   \u001b[4m2\u001b[24m169.\n",
            "\u001b[90m3\u001b[39m AM      \u001b[4m6\u001b[24m327.   \u001b[4m7\u001b[24m393.   \u001b[4m6\u001b[24m658.   \u001b[4m6\u001b[24m319.   \u001b[4m6\u001b[24m586.   \u001b[4m6\u001b[24m122.   \u001b[4m5\u001b[24m802.   \u001b[4m6\u001b[24m155.   \u001b[4m5\u001b[24m812.\n",
            "\u001b[90m4\u001b[39m AP      \u001b[4m6\u001b[24m327.   \u001b[4m7\u001b[24m393.   \u001b[4m6\u001b[24m658.   \u001b[4m6\u001b[24m319.   \u001b[4m6\u001b[24m586.   \u001b[4m6\u001b[24m122.   \u001b[4m5\u001b[24m802.   \u001b[4m6\u001b[24m155.   \u001b[4m5\u001b[24m812.\n",
            "\u001b[90m5\u001b[39m BA      \u001b[4m3\u001b[24m070.   \u001b[4m3\u001b[24m101.   \u001b[4m3\u001b[24m069.   \u001b[4m3\u001b[24m108.   \u001b[4m3\u001b[24m157.   \u001b[4m3\u001b[24m055.   \u001b[4m3\u001b[24m028.   \u001b[4m3\u001b[24m038.   \u001b[4m3\u001b[24m039.\n",
            "\u001b[90m6\u001b[39m CE      \u001b[4m3\u001b[24m355.   \u001b[4m3\u001b[24m359.   \u001b[4m3\u001b[24m346.   \u001b[4m3\u001b[24m304.   \u001b[4m3\u001b[24m426.   \u001b[4m3\u001b[24m366.   \u001b[4m3\u001b[24m255.   \u001b[4m3\u001b[24m322.   \u001b[4m3\u001b[24m489.\n",
            "\u001b[90m# ℹ 234 more variables: `39356` <dbl>, `39387` <dbl>, `39417` <dbl>,\u001b[39m\n",
            "\u001b[90m#   `2007 Total` <dbl>, `39448` <dbl>, `39479` <dbl>, `39508` <dbl>,\u001b[39m\n",
            "\u001b[90m#   `39539` <dbl>, `39569` <dbl>, `39600` <dbl>, `39630` <dbl>, `39661` <dbl>,\u001b[39m\n",
            "\u001b[90m#   `39692` <dbl>, `39722` <dbl>, `39753` <dbl>, `39783` <dbl>,\u001b[39m\n",
            "\u001b[90m#   `2008 Total` <dbl>, `39814` <dbl>, `39845` <dbl>, `39873` <dbl>,\u001b[39m\n",
            "\u001b[90m#   `39904` <dbl>, `39934` <dbl>, `39965` <dbl>, `39995` <dbl>, `40026` <dbl>,\u001b[39m\n",
            "\u001b[90m#   `40057` <dbl>, `40087` <dbl>, `40118` <dbl>, `40148` <dbl>, …\u001b[39m\n"
          ]
        }
      ]
    },
    {
      "cell_type": "code",
      "metadata": {
        "colab": {
          "base_uri": "https://localhost:8080/"
        },
        "id": "8eddefb9",
        "outputId": "0bc7b1ae-c84e-49ba-844c-f2225b340dbf"
      },
      "source": [
        "# Calcular a média da primeira coluna numérica (a 2ª coluna do dataframe precos)\n",
        "# Convertemos para numérico apenas para garantir, embora readxl já tenha feito isso\n",
        "# na.rm = TRUE remove quaisquer valores ausentes (NA) que possam existir\n",
        "media_primeira_coluna_numerica <- mean(as.numeric(precos[[2]]), na.rm = TRUE)\n",
        "\n",
        "# Exibir a média\n",
        "cat(\"A média da primeira coluna numérica ('42736') é:\", media_primeira_coluna_numerica, \"\\n\")"
      ],
      "execution_count": 9,
      "outputs": [
        {
          "output_type": "stream",
          "name": "stdout",
          "text": [
            "A média da primeira coluna numérica ('42736') é: 38.07145 \n"
          ]
        }
      ]
    }
  ]
}